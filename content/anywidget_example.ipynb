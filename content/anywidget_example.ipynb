{
  "cells": [
    {
      "cell_type": "code",
      "execution_count": null,
      "metadata": {
        "vscode": {
          "languageId": "plaintext"
        }
      },
      "outputs": [],
      "source": [
        "%pip install anywidget"
      ]
    },
    {
      "cell_type": "code",
      "execution_count": null,
      "metadata": {
        "vscode": {
          "languageId": "plaintext"
        }
      },
      "outputs": [],
      "source": [
        "import anywidget\n",
        "import traitlets\n",
        "\n",
        "\n",
        "class CounterWidget(anywidget.AnyWidget):\n",
        "    _esm = \"\"\"\n",
        "    export function render({ model, el }) {\n",
        "      let count = () => model.get(\"value\");\n",
        "      let btn = document.createElement(\"button\");\n",
        "      btn.classList.add(\"counter-button\");\n",
        "      btn.innerHTML = `count is ${count()}`;\n",
        "      btn.addEventListener(\"click\", () => {\n",
        "        model.set(\"value\", count() + 1);\n",
        "        model.save_changes();\n",
        "      });\n",
        "      model.on(\"change:value\", () => {\n",
        "        btn.innerHTML = `count is ${count()}`;\n",
        "      });\n",
        "      el.appendChild(btn);\n",
        "    }\n",
        "    \"\"\"\n",
        "    _css = \"\"\"\n",
        "    .counter-button {\n",
        "      background-image: linear-gradient(to right, #a1c4fd, #c2e9fb);\n",
        "      border: 0;\n",
        "      border-radius: 10px;\n",
        "      padding: 10px 50px;\n",
        "      color: white;\n",
        "    }\n",
        "    \"\"\"\n",
        "    value = traitlets.Int(0).tag(sync=True)\n",
        "\n",
        "\n",
        "w = CounterWidget()\n",
        "w.value = 60\n",
        "\n",
        "w"
      ]
    }
  ],
  "metadata": {
    "kernelspec": {
      "display_name": "Python (Pyodide)",
      "language": "python",
      "name": "python"
    },
    "language_info": {
      "codemirror_mode": {
        "name": "python",
        "version": 3
      },
      "file_extension": ".py",
      "mimetype": "text/x-python",
      "name": "python",
      "nbconvert_exporter": "python",
      "pygments_lexer": "ipython3",
      "version": "3.8"
    },
    "orig_nbformat": 4
  },
  "nbformat": 4,
  "nbformat_minor": 4
}
